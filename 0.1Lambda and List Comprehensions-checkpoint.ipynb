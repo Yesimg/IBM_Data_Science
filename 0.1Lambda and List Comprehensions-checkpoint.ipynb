{
 "cells": [
  {
   "cell_type": "markdown",
   "id": "59ee3751",
   "metadata": {},
   "source": [
    "__Lambda__"
   ]
  },
  {
   "cell_type": "code",
   "execution_count": 3,
   "id": "a8b642dd",
   "metadata": {},
   "outputs": [],
   "source": [
    "my_function= lambda a,b,c: a+b"
   ]
  },
  {
   "cell_type": "code",
   "execution_count": 4,
   "id": "fa4dd34b",
   "metadata": {},
   "outputs": [
    {
     "data": {
      "text/plain": [
       "3"
      ]
     },
     "execution_count": 4,
     "metadata": {},
     "output_type": "execute_result"
    }
   ],
   "source": [
    "my_function(1,2,3)"
   ]
  },
  {
   "cell_type": "code",
   "execution_count": 1,
   "id": "20f18c4c",
   "metadata": {},
   "outputs": [
    {
     "name": "stdout",
     "output_type": "stream",
     "text": [
      "Dr. Brooks\n",
      "Dr. Collins-Thompson\n",
      "Dr. Vydiswaran\n",
      "Dr. Romero\n"
     ]
    },
    {
     "data": {
      "text/plain": [
       "['Dr. Brooks', 'Dr. Collins-Thompson', 'Dr. Vydiswaran', 'Dr. Romero']"
      ]
     },
     "execution_count": 1,
     "metadata": {},
     "output_type": "execute_result"
    }
   ],
   "source": [
    "people = ['Dr. Christopher Brooks', 'Dr. Kevyn Collins-Thompson', 'Dr. VG Vinod Vydiswaran', 'Dr. Daniel Romero']\n",
    "\n",
    "def split_title_and_name(person):\n",
    "    return person.split()[0] + ' ' + person.split()[-1]\n",
    "\n",
    "#option 1\n",
    "people = ['Dr. Christopher Brooks', 'Dr. Kevyn Collins-Thompson', 'Dr. VG Vinod Vydiswaran', 'Dr. Daniel Romero']\n",
    "\n",
    "my_function= lambda person: person.split()[0] + ' ' + person.split()[-1]\n",
    "\n",
    "for person in people:\n",
    "    print(my_function(person))\n",
    "    \n",
    "list(map(my_function,people))\n"
   ]
  },
  {
   "cell_type": "markdown",
   "id": "d84df073",
   "metadata": {},
   "source": [
    "__List Comprehensions__"
   ]
  },
  {
   "cell_type": "code",
   "execution_count": 8,
   "id": "843b2a9f",
   "metadata": {},
   "outputs": [
    {
     "data": {
      "text/plain": [
       "True"
      ]
     },
     "execution_count": 8,
     "metadata": {},
     "output_type": "execute_result"
    }
   ],
   "source": [
    "my_list= []\n",
    "for number in range (0,1000):\n",
    "    if number % 2 == 0:\n",
    "        my_list.append(number)\n",
    "        \n",
    "my_list\n",
    "\n",
    "#List comprehension\n",
    "\n",
    "my_list1= [number for number in range (0,1000) if number % 2 == 0]\n",
    "my_list1\n",
    "\n",
    "my_list == my_list1\n"
   ]
  },
  {
   "cell_type": "code",
   "execution_count": 1,
   "id": "d6a78b15",
   "metadata": {},
   "outputs": [
    {
     "data": {
      "text/plain": [
       "True"
      ]
     },
     "execution_count": 1,
     "metadata": {},
     "output_type": "execute_result"
    }
   ],
   "source": [
    "def times_tables():\n",
    "    lst = []\n",
    "    for i in range(10):\n",
    "        for j in range (10): \n",
    "            lst.append(i*j)\n",
    "    return lst\n",
    "\n",
    "times_tables() == [j*i for i in range(10) for j in range(10)]"
   ]
  },
  {
   "cell_type": "code",
   "execution_count": 2,
   "id": "adde835d",
   "metadata": {},
   "outputs": [],
   "source": [
    "#Here’s a harder question which brings a few things together.\n",
    "#Many organizations have user ids which are constrained in some way. Imagine you work at an internet service provider and the user ids are all two letters followed by two numbers (e.g. aa49). Your task at such an organization might be to hold a record on the billing activity for each possible user. \n",
    "\n",
    "#Write an initialization line as a single list comprehension which creates a list of all possible user ids. Assume the letters are all lower case"
   ]
  },
  {
   "cell_type": "code",
   "execution_count": 2,
   "id": "6af41c71",
   "metadata": {},
   "outputs": [
    {
     "name": "stdout",
     "output_type": "stream",
     "text": [
      "aa00\n"
     ]
    }
   ],
   "source": [
    "lowercase = 'abcdefghijklmnopqrstuvwxyz'\n",
    "digits = '0123456789'\n"
   ]
  },
  {
   "cell_type": "code",
   "execution_count": 5,
   "id": "0abed9b1",
   "metadata": {},
   "outputs": [
    {
     "name": "stdout",
     "output_type": "stream",
     "text": [
      "['aa00', 'aa01', 'aa02', 'aa03', 'aa04', 'aa05', 'aa06', 'aa07', 'aa08', 'aa09', 'aa10', 'aa11', 'aa12', 'aa13', 'aa14', 'aa15', 'aa16', 'aa17', 'aa18', 'aa19', 'aa20', 'aa21', 'aa22', 'aa23', 'aa24', 'aa25', 'aa26', 'aa27', 'aa28', 'aa29']\n"
     ]
    }
   ],
   "source": [
    "answer = [i+j+k+l for i in lowercase for j in lowercase for k in digits for l in digits]\n",
    "print(answer[0:30])"
   ]
  }
 ],
 "metadata": {
  "kernelspec": {
   "display_name": "Python 3.10.4 64-bit",
   "language": "python",
   "name": "python3"
  },
  "language_info": {
   "codemirror_mode": {
    "name": "ipython",
    "version": 3
   },
   "file_extension": ".py",
   "mimetype": "text/x-python",
   "name": "python",
   "nbconvert_exporter": "python",
   "pygments_lexer": "ipython3",
   "version": "3.10.4"
  },
  "vscode": {
   "interpreter": {
    "hash": "916dbcbb3f70747c44a77c7bcd40155683ae19c65e1c03b4aa3499c5328201f1"
   }
  }
 },
 "nbformat": 4,
 "nbformat_minor": 5
}
